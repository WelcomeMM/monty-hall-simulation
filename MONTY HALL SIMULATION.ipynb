{
 "cells": [
  {
   "cell_type": "code",
   "execution_count": 1,
   "metadata": {},
   "outputs": [],
   "source": [
    "import random"
   ]
  },
  {
   "cell_type": "code",
   "execution_count": 2,
   "metadata": {},
   "outputs": [],
   "source": [
    "def switching_choice():\n",
    "    \n",
    "    door_list = [1, 2, 3]\n",
    "    \n",
    "    car_behind_door = random.choice(door_list) #choice of the door where the car is.\n",
    "    first_player_choice = random.choice(door_list) #first choice of the player.\n",
    "    \n",
    "    \n",
    "    if car_behind_door != first_player_choice:\n",
    "        eliminate_door = [1, 2, 3]\n",
    "        \n",
    "        #deciding which door to remove in the first list of doors.\n",
    "        eliminate_door.remove(car_behind_door)\n",
    "        eliminate_door.remove(first_player_choice)\n",
    "        \n",
    "        #deleting the unused door from the door_list\n",
    "        door_list.remove(eliminate_door[0])\n",
    "        \n",
    "        #deleting the door choosen to switch    \n",
    "        door_list.remove(first_player_choice)\n",
    "        \n",
    "        #make the second choice\n",
    "        second_player_choice = door_list[0]\n",
    "        \n",
    "        if second_player_choice == car_behind_door:\n",
    "            return 1\n",
    "        else:\n",
    "            return 0\n",
    "        \n",
    "        \n",
    "    else:\n",
    "        eliminate_door = [1, 2, 3]\n",
    "        \n",
    "        eliminate_door.remove(first_player_choice)\n",
    "        eliminate_door.remove(random.choice(eliminate_door))\n",
    "        door_list.remove(first_player_choice)\n",
    "        door_list.remove(eliminate_door[0])\n",
    "        second_player_choice = door_list[0]\n",
    "        \n",
    "        if second_player_choice == car_behind_door:\n",
    "            return 1\n",
    "        else: \n",
    "            return 0\n",
    "    "
   ]
  },
  {
   "cell_type": "code",
   "execution_count": 3,
   "metadata": {},
   "outputs": [],
   "source": [
    "def keeping_choice():\n",
    "    door_list = [1, 2, 3]\n",
    "    \n",
    "    car_behind_door = random.choice(door_list)\n",
    "    player_choice = random.choice(door_list)\n",
    "    \n",
    "    if player_choice == car_behind_door:\n",
    "        return 1\n",
    "    else: \n",
    "        return 0\n",
    "    "
   ]
  },
  {
   "cell_type": "code",
   "execution_count": null,
   "metadata": {},
   "outputs": [],
   "source": [
    "number_of_iterations = 10000000000\n",
    "attempts = number_of_iterations\n",
    "switching_result = 0\n",
    "non_switching_result = 0\n",
    "\n",
    "while number_of_iterations > 0:\n",
    "    switching_result += switching_choice()\n",
    "    non_switching_result += keeping_choice()\n",
    "    number_of_iterations -= 1\n",
    "    \n",
    "print(f\"By switching, out of {attempts}, i won {switching_result} times\")\n",
    "print(f\"By keeping my original choice, out of {attempts}, i won {non_switching_result} times\")\n",
    "\n",
    "print(\"\")\n",
    "if switching_result > non_switching_result:\n",
    "    print(\"switching gives a better result, so it is preferable to change your first choice\")\n",
    "else:\n",
    "    print(\"I've won many time by not changing my first choice, so i have to keep it til the end\")\n"
   ]
  },
  {
   "cell_type": "code",
   "execution_count": null,
   "metadata": {},
   "outputs": [],
   "source": []
  }
 ],
 "metadata": {
  "kernelspec": {
   "display_name": "Python 3",
   "language": "python",
   "name": "python3"
  },
  "language_info": {
   "codemirror_mode": {
    "name": "ipython",
    "version": 3
   },
   "file_extension": ".py",
   "mimetype": "text/x-python",
   "name": "python",
   "nbconvert_exporter": "python",
   "pygments_lexer": "ipython3",
   "version": "3.7.4"
  }
 },
 "nbformat": 4,
 "nbformat_minor": 2
}
